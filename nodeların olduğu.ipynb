{
 "cells": [
  {
   "cell_type": "code",
   "execution_count": 1,
   "metadata": {},
   "outputs": [],
   "source": [
    "import nltk\n",
    "from nltk import grammar, parse"
   ]
  },
  {
   "cell_type": "code",
   "execution_count": 2,
   "metadata": {},
   "outputs": [],
   "source": [
    "grammar = nltk.CFG.fromstring(\"\"\" S -> NP VP\n",
    "                                  VP -> V NP | V NP PP\n",
    "                                  PP -> P NP\n",
    "                                  V -> \"saw\" | \"ate\" | \"walked\" | \"loves\" | \"showed\"\n",
    "                                  NP -> \"john\" | \"mary\" | \"bob\" | \"tom\" | \"himself\" | \"herself\" | Det N | Det N PP | N PP\n",
    "                                  Det -> \"a\" | \"an\" | \"the\" | \"my\" \n",
    "                                  N -> \"man\" | \"dog\" | \"cat\" | \"telescope\" | \"park\" | \"boy\" | \"mother\"\n",
    "                                  P -> \"in\" | \"on\" | \"by\" | \"with\" | \"of\" \"\"\")"
   ]
  },
  {
   "cell_type": "code",
   "execution_count": 3,
   "metadata": {},
   "outputs": [],
   "source": [
    "# print(grammar)"
   ]
  },
  {
   "cell_type": "code",
   "execution_count": 4,
   "metadata": {},
   "outputs": [
    {
     "name": "stdout",
     "output_type": "stream",
     "text": [
      "Enter sentence:The boy loves himself\n"
     ]
    }
   ],
   "source": [
    "sentence = input('Enter sentence:').lower()"
   ]
  },
  {
   "cell_type": "code",
   "execution_count": 5,
   "metadata": {},
   "outputs": [],
   "source": [
    "# print(sentence)"
   ]
  },
  {
   "cell_type": "code",
   "execution_count": 6,
   "metadata": {},
   "outputs": [],
   "source": [
    "sent = sentence.split()"
   ]
  },
  {
   "cell_type": "code",
   "execution_count": 7,
   "metadata": {},
   "outputs": [
    {
     "name": "stdout",
     "output_type": "stream",
     "text": [
      "['the', 'boy', 'loves', 'himself']\n"
     ]
    }
   ],
   "source": [
    "print(sent)"
   ]
  },
  {
   "cell_type": "code",
   "execution_count": 8,
   "metadata": {},
   "outputs": [],
   "source": [
    "# sent = \"Mary loves herself\".split()"
   ]
  },
  {
   "cell_type": "code",
   "execution_count": 9,
   "metadata": {},
   "outputs": [],
   "source": [
    "# print(sent)"
   ]
  },
  {
   "cell_type": "code",
   "execution_count": 10,
   "metadata": {},
   "outputs": [
    {
     "name": "stdout",
     "output_type": "stream",
     "text": [
      "(S (NP (Det the) (N boy)) (VP (V loves) (NP himself)))\n"
     ]
    }
   ],
   "source": [
    "parser = nltk.RecursiveDescentParser(grammar)\n",
    "for tree in parser.parse(sent):\n",
    "    print(tree)"
   ]
  },
  {
   "cell_type": "code",
   "execution_count": 11,
   "metadata": {},
   "outputs": [],
   "source": [
    "tree.draw()"
   ]
  },
  {
   "cell_type": "code",
   "execution_count": 12,
   "metadata": {
    "scrolled": true
   },
   "outputs": [
    {
     "data": {
      "text/plain": [
       "[Tree('S', [Tree('NP', [Tree('Det', ['the']), Tree('N', ['boy'])]), Tree('VP', [Tree('V', ['loves']), Tree('NP', ['himself'])])]),\n",
       " Tree('NP', [Tree('Det', ['the']), Tree('N', ['boy'])]),\n",
       " Tree('Det', ['the']),\n",
       " Tree('N', ['boy']),\n",
       " Tree('VP', [Tree('V', ['loves']), Tree('NP', ['himself'])]),\n",
       " Tree('V', ['loves']),\n",
       " Tree('NP', ['himself'])]"
      ]
     },
     "execution_count": 12,
     "metadata": {},
     "output_type": "execute_result"
    }
   ],
   "source": [
    "[s for s in tree.subtrees()]"
   ]
  },
  {
   "cell_type": "code",
   "execution_count": 13,
   "metadata": {},
   "outputs": [
    {
     "data": {
      "text/plain": [
       "[Tree('S', [Tree('NP', [Tree('Det', ['the']), Tree('N', ['boy'])]), Tree('VP', [Tree('V', ['loves']), Tree('NP', ['himself'])])])]"
      ]
     },
     "execution_count": 13,
     "metadata": {},
     "output_type": "execute_result"
    }
   ],
   "source": [
    "[s for s in tree.subtrees() if s.label() == \"S\"]"
   ]
  },
  {
   "cell_type": "code",
   "execution_count": 14,
   "metadata": {},
   "outputs": [],
   "source": [
    "snodes = [s for s in tree.subtrees() if s.label() == \"S\"]"
   ]
  },
  {
   "cell_type": "code",
   "execution_count": 15,
   "metadata": {},
   "outputs": [],
   "source": [
    "snode = snodes[0]"
   ]
  },
  {
   "cell_type": "code",
   "execution_count": 16,
   "metadata": {},
   "outputs": [
    {
     "name": "stdout",
     "output_type": "stream",
     "text": [
      "snode:  (S (NP (Det the) (N boy)) (VP (V loves) (NP himself)))\n",
      "len snode:  2\n",
      "snode[0]:  (NP (Det the) (N boy))\n",
      "snode[1]:  (VP (V loves) (NP himself))\n",
      "snode[1][0]:  (V loves)\n",
      "snode[1][1]:  (NP himself)\n"
     ]
    }
   ],
   "source": [
    "print(\"snode: \", snode)\n",
    "print(\"len snode: \", len(snode))\n",
    "print(\"snode[0]: \", snode[0])\n",
    "print(\"snode[1]: \", snode[1])\n",
    "print(\"snode[1][0]: \", snode[1][0])\n",
    "print(\"snode[1][1]: \", snode[1][1])"
   ]
  },
  {
   "cell_type": "code",
   "execution_count": 17,
   "metadata": {},
   "outputs": [
    {
     "name": "stdout",
     "output_type": "stream",
     "text": [
      "(V loves)\n"
     ]
    }
   ],
   "source": [
    "if len(snode[0]) == 1:\n",
    "    print(snode[0])\n",
    "else:\n",
    "    print(snode[1][0])"
   ]
  },
  {
   "cell_type": "code",
   "execution_count": 18,
   "metadata": {},
   "outputs": [
    {
     "name": "stdout",
     "output_type": "stream",
     "text": [
      "(NP himself)\n"
     ]
    }
   ],
   "source": [
    "if len(snode[1]) == 1:\n",
    "    print(snode[1])\n",
    "else:\n",
    "    print(snode[1][1])"
   ]
  },
  {
   "cell_type": "code",
   "execution_count": 19,
   "metadata": {},
   "outputs": [
    {
     "name": "stdout",
     "output_type": "stream",
     "text": [
      "(V loves)\n",
      "(NP himself)\n"
     ]
    }
   ],
   "source": [
    "for i in range(0,1):\n",
    "    if len(snode[0]) == 1:\n",
    "        print(snode[0])\n",
    "    else:\n",
    "        print(snode[1][0])\n",
    "    if len(snode[1]) == 1:\n",
    "        print(snode[1])\n",
    "    else:\n",
    "        print(snode[1][1])"
   ]
  },
  {
   "cell_type": "code",
   "execution_count": 20,
   "metadata": {},
   "outputs": [
    {
     "name": "stdout",
     "output_type": "stream",
     "text": [
      "             S                   \n",
      "      _______|_________           \n",
      "     NP                VP        \n",
      "  ___|___          ____|_____     \n",
      "Det      N        V          NP  \n",
      " |       |        |          |    \n",
      "the     boy     loves     himself\n",
      "\n"
     ]
    }
   ],
   "source": [
    "tree.pretty_print()"
   ]
  },
  {
   "cell_type": "code",
   "execution_count": 21,
   "metadata": {},
   "outputs": [
    {
     "data": {
      "text/plain": [
       "[Tree('NP', [Tree('Det', ['the']), Tree('N', ['boy'])])]"
      ]
     },
     "execution_count": 21,
     "metadata": {},
     "output_type": "execute_result"
    }
   ],
   "source": [
    "[n for n in snode if n.label() == \"NP\"]"
   ]
  },
  {
   "cell_type": "code",
   "execution_count": null,
   "metadata": {},
   "outputs": [],
   "source": []
  }
 ],
 "metadata": {
  "kernelspec": {
   "display_name": "Python 3",
   "language": "python",
   "name": "python3"
  },
  "language_info": {
   "codemirror_mode": {
    "name": "ipython",
    "version": 3
   },
   "file_extension": ".py",
   "mimetype": "text/x-python",
   "name": "python",
   "nbconvert_exporter": "python",
   "pygments_lexer": "ipython3",
   "version": "3.8.3"
  }
 },
 "nbformat": 4,
 "nbformat_minor": 4
}
