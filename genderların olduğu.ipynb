{
 "cells": [
  {
   "cell_type": "code",
   "execution_count": 1,
   "metadata": {},
   "outputs": [],
   "source": [
    "import nltk\n",
    "from nltk import grammar, parse"
   ]
  },
  {
   "cell_type": "code",
   "execution_count": 2,
   "metadata": {},
   "outputs": [],
   "source": [
    "g = \"\"\"\n",
    "% start S\n",
    "\n",
    "# Grammar Productions\n",
    "\n",
    "# S expansion productions\n",
    "S -> NP VP\n",
    "\n",
    "# VP(Verb Phrases) expansion productions\n",
    "VP -> V NP | V NP PP\n",
    "\n",
    "# PP(Prepositional Phrases) expansion productions\n",
    "PP -> P NP\n",
    "\n",
    "# NP(Noun Phrases) expansion productions\n",
    "NP -> Det N | Det N PP | N PP\n",
    "\n",
    "# Lexical Productions\n",
    "V[TENSE=pres,  NUM=sg] -> \"loves\" | \"hates\"\n",
    "V[TENSE=pres,  NUM=pl] -> \"love\" | \"hate\"\n",
    "V[TENSE=past] -> \"saw\" | \"ate\" | \"walked\" | \"showed\"\n",
    "\n",
    "NP[NUM='sg', GND='m', PERS=3] -> \"himself\" | \"john\" | \"bob\" | \"tom\" | \"ersu\" | \"yılmaz\" | \"deniz\" \n",
    "NP[NUM='sg', GND='f', PERS=3] -> \"herself\" | \"mary\" | \"şehnaz\" | \"refiye\" | \"deniz\"\n",
    " \n",
    "N[NUM=sg] -> \"man\" | \"dog\" | \"cat\" | \"boy\" | \"girl\" | \"mother\" | \"woman\"\n",
    "N[NUM=pl] -> \"men\" | \"women\" | \"boys\" | \"girls\"\n",
    "\n",
    "Det -> \"a\" | \"an\" | \"the\" | \"my\" | \"some\" | \"several\"\n",
    "Det[NUM=sg] -> \"this\" | \"every\" | \"that\"\n",
    "Det[NUM=pl] -> \"these\" | \"all\" | \"those\"\n",
    "\n",
    "P -> \"in\" | \"on\" | \"by\" | \"with\" | \"of\"\n",
    "\"\"\""
   ]
  },
  {
   "cell_type": "code",
   "execution_count": 3,
   "metadata": {},
   "outputs": [],
   "source": [
    "grammar = grammar.FeatureGrammar.fromstring(g)"
   ]
  },
  {
   "cell_type": "code",
   "execution_count": 4,
   "metadata": {},
   "outputs": [],
   "source": [
    "# print(grammar)"
   ]
  },
  {
   "cell_type": "code",
   "execution_count": 5,
   "metadata": {},
   "outputs": [
    {
     "name": "stdout",
     "output_type": "stream",
     "text": [
      "Enter sentence:Şehnaz loves herself\n"
     ]
    }
   ],
   "source": [
    "sentence = input('Enter sentence:').lower()"
   ]
  },
  {
   "cell_type": "code",
   "execution_count": 6,
   "metadata": {},
   "outputs": [
    {
     "name": "stdout",
     "output_type": "stream",
     "text": [
      "['şehnaz', 'loves', 'herself']\n"
     ]
    }
   ],
   "source": [
    "sent = sentence.split()\n",
    "print(sent)"
   ]
  },
  {
   "cell_type": "code",
   "execution_count": 20,
   "metadata": {},
   "outputs": [
    {
     "name": "stdout",
     "output_type": "stream",
     "text": [
      "(S[]\n",
      "  (NP[GND='f', NUM='sg', PERS=3] şehnaz)\n",
      "  (VP[]\n",
      "    (V[NUM='sg', TENSE='pres'] loves)\n",
      "    (NP[GND='f', NUM='sg', PERS=3] herself)))\n"
     ]
    }
   ],
   "source": [
    "parser = parse.FeatureEarleyChartParser(grammar)\n",
    "for tree in parser.parse(sent):\n",
    "    print(tree)"
   ]
  },
  {
   "cell_type": "code",
   "execution_count": 21,
   "metadata": {},
   "outputs": [],
   "source": [
    "tree.draw()"
   ]
  },
  {
   "cell_type": "code",
   "execution_count": 9,
   "metadata": {},
   "outputs": [
    {
     "data": {
      "text/plain": [
       "[Tree(S[], [Tree(NP[GND='f', NUM='sg', PERS=3], ['şehnaz']), Tree(VP[], [Tree(V[NUM='sg', TENSE='pres'], ['loves']), Tree(NP[GND='f', NUM='sg', PERS=3], ['herself'])])]),\n",
       " Tree(NP[GND='f', NUM='sg', PERS=3], ['şehnaz']),\n",
       " Tree(VP[], [Tree(V[NUM='sg', TENSE='pres'], ['loves']), Tree(NP[GND='f', NUM='sg', PERS=3], ['herself'])]),\n",
       " Tree(V[NUM='sg', TENSE='pres'], ['loves']),\n",
       " Tree(NP[GND='f', NUM='sg', PERS=3], ['herself'])]"
      ]
     },
     "execution_count": 9,
     "metadata": {},
     "output_type": "execute_result"
    }
   ],
   "source": [
    "[s for s in tree.subtrees()]"
   ]
  },
  {
   "cell_type": "code",
   "execution_count": 22,
   "metadata": {},
   "outputs": [
    {
     "name": "stdout",
     "output_type": "stream",
     "text": [
      "(S[]\n",
      "  (NP[GND='f', NUM='sg', PERS=3] şehnaz)\n",
      "  (VP[]\n",
      "    (V[NUM='sg', TENSE='pres'] loves)\n",
      "    (NP[GND='f', NUM='sg', PERS=3] herself)))\n",
      "(NP[GND='f', NUM='sg', PERS=3] şehnaz)\n",
      "(VP[]\n",
      "  (V[NUM='sg', TENSE='pres'] loves)\n",
      "  (NP[GND='f', NUM='sg', PERS=3] herself))\n",
      "(V[NUM='sg', TENSE='pres'] loves)\n",
      "(NP[GND='f', NUM='sg', PERS=3] herself)\n"
     ]
    }
   ],
   "source": [
    "for trees in tree.subtrees():\n",
    "    print(trees)"
   ]
  },
  {
   "cell_type": "code",
   "execution_count": 23,
   "metadata": {},
   "outputs": [
    {
     "data": {
      "text/plain": [
       "[]"
      ]
     },
     "execution_count": 23,
     "metadata": {},
     "output_type": "execute_result"
    }
   ],
   "source": [
    "[s for s in tree.subtrees() if s.label() == \"S[0]\"]"
   ]
  },
  {
   "cell_type": "code",
   "execution_count": 11,
   "metadata": {},
   "outputs": [],
   "source": [
    "# snodes = [s for s in tree.subtrees() if s.label() == \"S[]\"]"
   ]
  },
  {
   "cell_type": "code",
   "execution_count": 12,
   "metadata": {},
   "outputs": [],
   "source": [
    "# snode = snodes[0]"
   ]
  },
  {
   "cell_type": "code",
   "execution_count": 13,
   "metadata": {},
   "outputs": [],
   "source": [
    "# print(\"snode: \", snode)\n",
    "# print(\"len snode: \", len(snode))\n",
    "# print(\"snode[0]: \", snode[0])\n",
    "# print(\"snode[1]: \", snode[1])\n",
    "# print(\"snode[1][0]: \", snode[1][0])\n",
    "# print(\"snode[1][1]: \", snode[1][1])"
   ]
  },
  {
   "cell_type": "code",
   "execution_count": 14,
   "metadata": {},
   "outputs": [],
   "source": [
    "# for i in range(0,1):\n",
    "#     if len(snode[0]) == 1:\n",
    "#         print(snode[0])\n",
    "#     else:\n",
    "#         print(snode[1][0])\n",
    "#     if len(snode[1]) == 1:\n",
    "#         print(snode[1])\n",
    "#     else:\n",
    "#         print(snode[1][1])"
   ]
  },
  {
   "cell_type": "code",
   "execution_count": 15,
   "metadata": {},
   "outputs": [],
   "source": [
    "# tree.pretty_print()"
   ]
  },
  {
   "cell_type": "code",
   "execution_count": null,
   "metadata": {},
   "outputs": [],
   "source": []
  }
 ],
 "metadata": {
  "kernelspec": {
   "display_name": "Python 3",
   "language": "python",
   "name": "python3"
  },
  "language_info": {
   "codemirror_mode": {
    "name": "ipython",
    "version": 3
   },
   "file_extension": ".py",
   "mimetype": "text/x-python",
   "name": "python",
   "nbconvert_exporter": "python",
   "pygments_lexer": "ipython3",
   "version": "3.8.3"
  }
 },
 "nbformat": 4,
 "nbformat_minor": 4
}
